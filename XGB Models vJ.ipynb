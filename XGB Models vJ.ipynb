{
 "cells": [
  {
   "cell_type": "markdown",
   "metadata": {},
   "source": [
    "# XGB Models\n",
    "\n",
    "The Data will be split by week and use week 9 as a validation set \n",
    "\n",
    "The Workflow will be as follow: \n",
    "\n",
    "    ** Use the default xgbregresor to train and plot feature importance\n",
    "    ** Use a gridsearch to find the ideal hyperparameters (with only 50 estimators) \n",
    "    ** Train using all data and 500 estimators as our final model \n",
    "    "
   ]
  },
  {
   "cell_type": "markdown",
   "metadata": {},
   "source": [
    "## Imports "
   ]
  },
  {
   "cell_type": "code",
   "execution_count": 1,
   "metadata": {
    "collapsed": false
   },
   "outputs": [
    {
     "name": "stderr",
     "output_type": "stream",
     "text": [
      "C:\\Anaconda\\lib\\site-packages\\pandas\\computation\\__init__.py:19: UserWarning: The installed version of numexpr 2.4.4 is not supported in pandas and will be not be used\n",
      "\n",
      "  UserWarning)\n"
     ]
    }
   ],
   "source": [
    "import os\n",
    "\n",
    "mingw_path = 'C:\\\\Program Files\\\\mingw-w64\\\\x86_64-5.3.0-posix-seh-rt_v4-rev0\\\\mingw64\\\\bin'\n",
    "\n",
    "os.environ['PATH'] = mingw_path + ';' + os.environ['PATH']\n",
    "\n",
    "import xgboost as xgb"
   ]
  },
  {
   "cell_type": "code",
   "execution_count": 2,
   "metadata": {
    "collapsed": true
   },
   "outputs": [],
   "source": [
    "import pandas as pd\n",
    "import numpy as np\n",
    "import re \n",
    "import os\n",
    "import time\n",
    "from IPython.display import display\n",
    "import matplotlib.pyplot as plt\n",
    "from sklearn.cross_validation import LabelKFold\n",
    "from sklearn.grid_search import GridSearchCV\n",
    "import seaborn as sns\n",
    "%matplotlib inline"
   ]
  },
  {
   "cell_type": "markdown",
   "metadata": {},
   "source": [
    "## Util functions"
   ]
  },
  {
   "cell_type": "code",
   "execution_count": 3,
   "metadata": {
    "collapsed": true
   },
   "outputs": [],
   "source": [
    "# Load computed Dataset\n",
    "def load_dataset(folder = ''):\n",
    "    \n",
    "    \n",
    "    filename = \"jorge_dataset.csv\"\n",
    "    filepath = os.path.join(folder,filename)        \n",
    "    \n",
    "    df_train = pd.read_csv(filepath,\n",
    "                           usecols = ['Semana','Producto_ID', 'Cliente_ID', 'Agencia_ID', 'Canal_ID', 'Ruta_SAK', 'ZipCode',\n",
    "                                      'Mean2','Mean3','Mean4','Mean6','Mean7',\n",
    "                                      'Median2','Median3','Median4','Median6','Median7',\n",
    "                                      'Last_per_Ruta_SAK','Last_per_Cliente_ID',\n",
    "                                      'id',\n",
    "                                      'Demanda_uni_equil'],\n",
    "                           dtype  = {'Producto_ID':'int32',\n",
    "                                     'Semana':'int8',\n",
    "                                     'Cliente_ID':'int32',\n",
    "                                     'Agencia_ID':'uint16',\n",
    "                                     'Canal_ID':'int8',\n",
    "                                     'Ruta_SAK':'int32',\n",
    "                                     'ZipCode':'int16',                                     \n",
    "                                     'Mean2':'float32','Mean3':'float32','Mean4':'float32',\n",
    "                                     'Mean6':'float32','Mean7':'float32',\n",
    "                                     'Median2':'float32','Median3':'float32','Median4':'float32',\n",
    "                                     'Median6':'float32','Median7':'float32',\n",
    "                                     'Last_per_Ruta_SAK':'float32','Last_per_Cliente_ID':'float32',\n",
    "                                     'Demanda_uni_equil':'float32'})\n",
    "    return df_train"
   ]
  },
  {
   "cell_type": "markdown",
   "metadata": {},
   "source": [
    "## Load Dataset "
   ]
  },
  {
   "cell_type": "code",
   "execution_count": 4,
   "metadata": {
    "collapsed": false
   },
   "outputs": [],
   "source": [
    "df = load_dataset()"
   ]
  },
  {
   "cell_type": "code",
   "execution_count": 5,
   "metadata": {
    "collapsed": false
   },
   "outputs": [
    {
     "name": "stdout",
     "output_type": "stream",
     "text": [
      "Index([u'Agencia_ID', u'Canal_ID', u'Cliente_ID', u'Demanda_uni_equil',\n",
      "       u'Producto_ID', u'Ruta_SAK', u'Semana', u'ZipCode', u'id',\n",
      "       u'Last_per_Cliente_ID', u'Last_per_Ruta_SAK', u'Mean3', u'Median3',\n",
      "       u'Mean2', u'Median2', u'Mean4', u'Median4', u'Mean7', u'Median7',\n",
      "       u'Mean6', u'Median6'],\n",
      "      dtype='object')\n"
     ]
    },
    {
     "data": {
      "text/html": [
       "<div>\n",
       "<table border=\"1\" class=\"dataframe\">\n",
       "  <thead>\n",
       "    <tr style=\"text-align: right;\">\n",
       "      <th></th>\n",
       "      <th>Agencia_ID</th>\n",
       "      <th>Canal_ID</th>\n",
       "      <th>Cliente_ID</th>\n",
       "      <th>Demanda_uni_equil</th>\n",
       "      <th>Producto_ID</th>\n",
       "      <th>Ruta_SAK</th>\n",
       "      <th>Semana</th>\n",
       "      <th>ZipCode</th>\n",
       "      <th>id</th>\n",
       "      <th>Last_per_Cliente_ID</th>\n",
       "      <th>...</th>\n",
       "      <th>Mean3</th>\n",
       "      <th>Median3</th>\n",
       "      <th>Mean2</th>\n",
       "      <th>Median2</th>\n",
       "      <th>Mean4</th>\n",
       "      <th>Median4</th>\n",
       "      <th>Mean7</th>\n",
       "      <th>Median7</th>\n",
       "      <th>Mean6</th>\n",
       "      <th>Median6</th>\n",
       "    </tr>\n",
       "  </thead>\n",
       "  <tbody>\n",
       "    <tr>\n",
       "      <th>0</th>\n",
       "      <td>1110</td>\n",
       "      <td>7</td>\n",
       "      <td>15766</td>\n",
       "      <td>1.386294</td>\n",
       "      <td>1212</td>\n",
       "      <td>3301</td>\n",
       "      <td>3</td>\n",
       "      <td>2008</td>\n",
       "      <td>0</td>\n",
       "      <td>1.609438</td>\n",
       "      <td>...</td>\n",
       "      <td>1.418015</td>\n",
       "      <td>1.609438</td>\n",
       "      <td>1.418015</td>\n",
       "      <td>1.609438</td>\n",
       "      <td>1.39578</td>\n",
       "      <td>1.098612</td>\n",
       "      <td>1.558283</td>\n",
       "      <td>1.609438</td>\n",
       "      <td>1.558283</td>\n",
       "      <td>1.609438</td>\n",
       "    </tr>\n",
       "    <tr>\n",
       "      <th>1</th>\n",
       "      <td>1110</td>\n",
       "      <td>7</td>\n",
       "      <td>15766</td>\n",
       "      <td>1.609438</td>\n",
       "      <td>1212</td>\n",
       "      <td>3301</td>\n",
       "      <td>4</td>\n",
       "      <td>2008</td>\n",
       "      <td>0</td>\n",
       "      <td>1.386294</td>\n",
       "      <td>...</td>\n",
       "      <td>1.418015</td>\n",
       "      <td>1.609438</td>\n",
       "      <td>1.418015</td>\n",
       "      <td>1.609438</td>\n",
       "      <td>1.39578</td>\n",
       "      <td>1.098612</td>\n",
       "      <td>1.558283</td>\n",
       "      <td>1.609438</td>\n",
       "      <td>1.558283</td>\n",
       "      <td>1.609438</td>\n",
       "    </tr>\n",
       "    <tr>\n",
       "      <th>2</th>\n",
       "      <td>1110</td>\n",
       "      <td>7</td>\n",
       "      <td>15766</td>\n",
       "      <td>1.791759</td>\n",
       "      <td>1212</td>\n",
       "      <td>3301</td>\n",
       "      <td>5</td>\n",
       "      <td>2008</td>\n",
       "      <td>0</td>\n",
       "      <td>1.609438</td>\n",
       "      <td>...</td>\n",
       "      <td>1.418015</td>\n",
       "      <td>1.609438</td>\n",
       "      <td>1.418015</td>\n",
       "      <td>1.609438</td>\n",
       "      <td>1.39578</td>\n",
       "      <td>1.098612</td>\n",
       "      <td>1.558283</td>\n",
       "      <td>1.609438</td>\n",
       "      <td>1.558283</td>\n",
       "      <td>1.609438</td>\n",
       "    </tr>\n",
       "    <tr>\n",
       "      <th>3</th>\n",
       "      <td>1110</td>\n",
       "      <td>7</td>\n",
       "      <td>15766</td>\n",
       "      <td>1.609438</td>\n",
       "      <td>1212</td>\n",
       "      <td>3301</td>\n",
       "      <td>8</td>\n",
       "      <td>2008</td>\n",
       "      <td>0</td>\n",
       "      <td>1.791759</td>\n",
       "      <td>...</td>\n",
       "      <td>1.418015</td>\n",
       "      <td>1.609438</td>\n",
       "      <td>1.418015</td>\n",
       "      <td>1.609438</td>\n",
       "      <td>1.39578</td>\n",
       "      <td>1.098612</td>\n",
       "      <td>1.558283</td>\n",
       "      <td>1.609438</td>\n",
       "      <td>1.558283</td>\n",
       "      <td>1.609438</td>\n",
       "    </tr>\n",
       "    <tr>\n",
       "      <th>4</th>\n",
       "      <td>1110</td>\n",
       "      <td>7</td>\n",
       "      <td>15766</td>\n",
       "      <td>0.693147</td>\n",
       "      <td>1212</td>\n",
       "      <td>3301</td>\n",
       "      <td>9</td>\n",
       "      <td>2008</td>\n",
       "      <td>0</td>\n",
       "      <td>1.609438</td>\n",
       "      <td>...</td>\n",
       "      <td>1.418015</td>\n",
       "      <td>1.609438</td>\n",
       "      <td>1.418015</td>\n",
       "      <td>1.609438</td>\n",
       "      <td>1.39578</td>\n",
       "      <td>1.098612</td>\n",
       "      <td>1.558283</td>\n",
       "      <td>1.609438</td>\n",
       "      <td>1.558283</td>\n",
       "      <td>1.609438</td>\n",
       "    </tr>\n",
       "  </tbody>\n",
       "</table>\n",
       "<p>5 rows × 21 columns</p>\n",
       "</div>"
      ],
      "text/plain": [
       "   Agencia_ID  Canal_ID  Cliente_ID  Demanda_uni_equil  Producto_ID  Ruta_SAK  \\\n",
       "0        1110         7       15766           1.386294         1212      3301   \n",
       "1        1110         7       15766           1.609438         1212      3301   \n",
       "2        1110         7       15766           1.791759         1212      3301   \n",
       "3        1110         7       15766           1.609438         1212      3301   \n",
       "4        1110         7       15766           0.693147         1212      3301   \n",
       "\n",
       "   Semana  ZipCode  id  Last_per_Cliente_ID    ...        Mean3   Median3  \\\n",
       "0       3     2008   0             1.609438    ...     1.418015  1.609438   \n",
       "1       4     2008   0             1.386294    ...     1.418015  1.609438   \n",
       "2       5     2008   0             1.609438    ...     1.418015  1.609438   \n",
       "3       8     2008   0             1.791759    ...     1.418015  1.609438   \n",
       "4       9     2008   0             1.609438    ...     1.418015  1.609438   \n",
       "\n",
       "      Mean2   Median2    Mean4   Median4     Mean7   Median7     Mean6  \\\n",
       "0  1.418015  1.609438  1.39578  1.098612  1.558283  1.609438  1.558283   \n",
       "1  1.418015  1.609438  1.39578  1.098612  1.558283  1.609438  1.558283   \n",
       "2  1.418015  1.609438  1.39578  1.098612  1.558283  1.609438  1.558283   \n",
       "3  1.418015  1.609438  1.39578  1.098612  1.558283  1.609438  1.558283   \n",
       "4  1.418015  1.609438  1.39578  1.098612  1.558283  1.609438  1.558283   \n",
       "\n",
       "    Median6  \n",
       "0  1.609438  \n",
       "1  1.609438  \n",
       "2  1.609438  \n",
       "3  1.609438  \n",
       "4  1.609438  \n",
       "\n",
       "[5 rows x 21 columns]"
      ]
     },
     "metadata": {},
     "output_type": "display_data"
    },
    {
     "name": "stdout",
     "output_type": "stream",
     "text": [
      "Agencia_ID              uint16\n",
      "Canal_ID                  int8\n",
      "Cliente_ID               int32\n",
      "Demanda_uni_equil      float32\n",
      "Producto_ID              int32\n",
      "Ruta_SAK                 int32\n",
      "Semana                    int8\n",
      "ZipCode                  int16\n",
      "id                       int64\n",
      "Last_per_Cliente_ID    float32\n",
      "Last_per_Ruta_SAK      float32\n",
      "Mean3                  float32\n",
      "Median3                float32\n",
      "Mean2                  float32\n",
      "Median2                float32\n",
      "Mean4                  float32\n",
      "Median4                float32\n",
      "Mean7                  float32\n",
      "Median7                float32\n",
      "Mean6                  float32\n",
      "Median6                float32\n",
      "dtype: object\n"
     ]
    }
   ],
   "source": [
    "print df.columns\n",
    "display(df.head())\n",
    "print df.dtypes"
   ]
  },
  {
   "cell_type": "markdown",
   "metadata": {
    "collapsed": true
   },
   "source": [
    "\n",
    "#### Since I use Last -> Discard Week 3\n",
    "\n",
    "#### Test data is week 10 and 11"
   ]
  },
  {
   "cell_type": "code",
   "execution_count": 6,
   "metadata": {
    "collapsed": false
   },
   "outputs": [
    {
     "name": "stderr",
     "output_type": "stream",
     "text": [
      "C:\\Anaconda\\lib\\site-packages\\ipykernel\\__main__.py:1: SettingWithCopyWarning: \n",
      "A value is trying to be set on a copy of a slice from a DataFrame\n",
      "\n",
      "See the caveats in the documentation: http://pandas.pydata.org/pandas-docs/stable/indexing.html#indexing-view-versus-copy\n",
      "  if __name__ == '__main__':\n"
     ]
    }
   ],
   "source": [
    "df.Demanda_uni_equil[df.Demanda_uni_equil < 0] = 0\n",
    "df_validation = df[df.Semana == 9]\n",
    "df_train = df[(df.Semana != 3) & (df.Semana != 9) & (df.Semana < 10)]\n",
    "df_test = df[df.Semana > 9]\n",
    "del df"
   ]
  },
  {
   "cell_type": "code",
   "execution_count": 7,
   "metadata": {
    "collapsed": true
   },
   "outputs": [],
   "source": [
    "# Remove Columns that are not features \n",
    "#drop_columns = ['id','Semana','Demanda_uni_equil','DemandaAgencia_ID','DemandaCanal_ID','DemandaRuta_SAK','DemandaZipCode']\n",
    "drop_columns = ['id','Semana','Demanda_uni_equil']\n",
    "\n",
    "model_002 = ['ZipCode','Cliente_ID','Agencia_ID','Ruta_SAK']\n",
    "model_003 = ['ZipCode','Cliente_ID','Agencia_ID','Ruta_SAK','Producto_ID','Canal_ID','DemandaRuta_SAK']\n"
   ]
  },
  {
   "cell_type": "code",
   "execution_count": 8,
   "metadata": {
    "collapsed": true
   },
   "outputs": [],
   "source": [
    "Semana = df_train.Semana\n",
    "X_train = df_train.drop(drop_columns,axis=1)\n",
    "#X_train = X_train.drop(model_003,axis=1)\n",
    "\n",
    "X_valid = df_validation.drop(drop_columns,axis=1)\n",
    "#X_valid = X_valid.drop(model_003,axis=1)\n",
    "\n",
    "X_test = df_test.drop(drop_columns,axis=1)\n",
    "#X_test = X_test.drop(model_003,axis=1)\n",
    "\n",
    "Y_train = df_train['Demanda_uni_equil']\n",
    "Y_test = df_test['Demanda_uni_equil']\n",
    "Y_valid = df_validation['Demanda_uni_equil']\n",
    "\n"
   ]
  },
  {
   "cell_type": "markdown",
   "metadata": {},
   "source": [
    "# Feature Importance \n",
    "\n",
    "### Lets train a default model and see the feature importance plot"
   ]
  },
  {
   "cell_type": "code",
   "execution_count": 9,
   "metadata": {
    "collapsed": false
   },
   "outputs": [
    {
     "name": "stdout",
     "output_type": "stream",
     "text": [
      "Wall time: 23min 7s\n"
     ]
    },
    {
     "data": {
      "text/plain": [
       "XGBRegressor(base_score=0.5, colsample_bylevel=1, colsample_bytree=1, gamma=0,\n",
       "       learning_rate=0.1, max_delta_step=0, max_depth=3,\n",
       "       min_child_weight=1, missing=None, n_estimators=100, nthread=-1,\n",
       "       objective='reg:linear', reg_alpha=0, reg_lambda=1,\n",
       "       scale_pos_weight=1, seed=1234, silent=True, subsample=1)"
      ]
     },
     "execution_count": 9,
     "metadata": {},
     "output_type": "execute_result"
    }
   ],
   "source": [
    "gbm = xgb.XGBRegressor(seed=1234)\n",
    "%time gbm.fit(X_train, Y_train, eval_metric='rmse', verbose=True)"
   ]
  },
  {
   "cell_type": "code",
   "execution_count": 10,
   "metadata": {
    "collapsed": false
   },
   "outputs": [
    {
     "data": {
      "text/plain": [
       "<matplotlib.axes._subplots.AxesSubplot at 0x1768f1cf8>"
      ]
     },
     "execution_count": 10,
     "metadata": {},
     "output_type": "execute_result"
    },
    {
     "data": {
      "text/plain": [
       "<matplotlib.figure.Figure at 0x1768f10f0>"
      ]
     },
     "metadata": {},
     "output_type": "display_data"
    },
    {
     "data": {
      "image/png": "[encoded data removed]",
      "text/plain": [
       "<matplotlib.figure.Figure at 0x7f8d668>"
      ]
     },
     "metadata": {},
     "output_type": "display_data"
    }
   ],
   "source": [
    "plt.figure(figsize=(10, 10))\n",
    "xgb.plot_importance(gbm.booster())"
   ]
  },
  {
   "cell_type": "markdown",
   "metadata": {},
   "source": [
    "## Parameter Tuning (YaY!) \n",
    "\n",
    "#### Cross-Validation and GridSearch\n",
    "     Since I'm using xgboost I'm going to use the sklearn API so I can use GridSearchCV\n",
    "          \n",
    "http://scikit-learn.org/stable/modules/generated/sklearn.grid_search.GridSearchCV.html\n",
    "\n",
    "    Also, Since this is not just normal data where each row is a data point but each point correspond to a point in a sequence (Weekly delivers). I'm going to use the 'Semana' to create the folds, for this refer to sklearn Label KFold \n",
    "\n",
    "http://scikit-learn.org/stable/modules/generated/sklearn.cross_validation.LabelKFold.html#sklearn.cross_validation.LabelKFold"
   ]
  },
  {
   "cell_type": "markdown",
   "metadata": {},
   "source": [
    "### GridSearch \n",
    "\n",
    "    Pretty common grid \n",
    "    \n",
    "        * Max depth of the tree\n",
    "        * n estimators: # Trees\n",
    "        * Learning Rate\n",
    "        * subsample\n",
    "        * alpha and lambda regs\n",
    "        \n",
    "please refer:\n",
    "http://xgboost.readthedocs.io/en/latest/python/python_api.html"
   ]
  },
  {
   "cell_type": "code",
   "execution_count": null,
   "metadata": {
    "collapsed": true
   },
   "outputs": [],
   "source": [
    "param = {'max_depth':[10,6], \n",
    "        'n_estimators':[50] ,\n",
    "        'learning_rate':[0.1,0.05],         \n",
    "         'subsample': [0.5,1],\n",
    "         #'reg_alpha':[0,1], #L2 term\n",
    "         #'reg_lambda':[0,1]#, #L1 tem            \n",
    "         #'silent': [False]\n",
    "        }\n",
    "\n",
    "best_param = {'max_depth':[10], \n",
    "        'n_estimators':[100] ,\n",
    "        'learning_rate':[0.1],         \n",
    "         'subsample': [1],\n",
    "         #'reg_alpha':[0,1], #L2 term\n",
    "         #'reg_lambda':[0,1]#, #L1 tem            \n",
    "         #'silent': [False]\n",
    "        }"
   ]
  },
  {
   "cell_type": "markdown",
   "metadata": {},
   "source": [
    "I tried the gridsearch with CV, takes too long in my machine (4Cores 28GB) I gave up at 12hrs running."
   ]
  },
  {
   "cell_type": "markdown",
   "metadata": {},
   "source": [
    "# GO! \n",
    "###### and probably get a coffe"
   ]
  },
  {
   "cell_type": "code",
   "execution_count": null,
   "metadata": {
    "collapsed": false
   },
   "outputs": [
    {
     "name": "stdout",
     "output_type": "stream",
     "text": [
      "[0]\tvalidation_0-rmse:1.25188\n",
      "[1]\tvalidation_0-rmse:1.1382\n"
     ]
    }
   ],
   "source": [
    "grid_scores_ = pd.DataFrame(columns=['max_depth','learning_rate','n_estimators','subsample','score' ])\n",
    "from sklearn.grid_search import ParameterGrid\n",
    "\n",
    "for g in ParameterGrid(param):\n",
    "    start = time.time()\n",
    "    \n",
    "    grid_gbm = xgb.XGBRegressor(**g)\n",
    "    grid_gbm.fit(X_train, Y_train,eval_set=[(X_valid,Y_valid)] ,eval_metric='rmse')\n",
    "    \n",
    "    print \"Score for this combination: \", grid_gbm.evals_result_.values()[-1].values()[-1][-1]\n",
    "    g['rmse'] = grid_gbm.evals_result_.values()[-1].values()[-1][-1] #I'm sure there must be a better way to get this, but this nested dict is annoying\n",
    "    grid_scores_ = grid_scores_.append(g, ignore_index=True)\n",
    "            \n",
    "    print(\"total time taken this loop: \", time.time() - start)\n",
    "\n",
    "    \n",
    "    \n",
    "display(grid_scores_)    \n",
    "#print \"OOB: %0.5f\" % best_score \n",
    "#print \"Grid:\", best_grid"
   ]
  },
  {
   "cell_type": "code",
   "execution_count": null,
   "metadata": {
    "collapsed": true
   },
   "outputs": [],
   "source": []
  }
 ],
 "metadata": {
  "kernelspec": {
   "display_name": "Python 2",
   "language": "python",
   "name": "python2"
  },
  "language_info": {
   "codemirror_mode": {
    "name": "ipython",
    "version": 2
   },
   "file_extension": ".py",
   "mimetype": "text/x-python",
   "name": "python",
   "nbconvert_exporter": "python",
   "pygments_lexer": "ipython2",
   "version": "2.7.11"
  }
 },
 "nbformat": 4,
 "nbformat_minor": 0
}
